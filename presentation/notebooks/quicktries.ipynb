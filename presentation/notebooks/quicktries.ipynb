{
 "cells": [
  {
   "cell_type": "code",
   "execution_count": 81,
   "metadata": {},
   "outputs": [
    {
     "name": "stdout",
     "output_type": "stream",
     "text": [
      "The autoreload extension is already loaded. To reload it, use:\n",
      "  %reload_ext autoreload\n"
     ]
    }
   ],
   "source": [
    "import tensorflow as tf \n",
    "import os\n",
    "import pandas as pd\n",
    "os.environ[\"CUDA_VISIBLE_DEVICES\"]=\"2\"\n",
    "\n",
    "\n",
    "%load_ext autoreload\n",
    "%autoreload 2"
   ]
  },
  {
   "cell_type": "code",
   "execution_count": 9,
   "metadata": {},
   "outputs": [
    {
     "name": "stdout",
     "output_type": "stream",
     "text": [
      "/home/users/cdonoso/rnn_classifier\n"
     ]
    }
   ],
   "source": [
    "cd /home/users/cdonoso/rnn_classifier/"
   ]
  },
  {
   "cell_type": "code",
   "execution_count": 82,
   "metadata": {},
   "outputs": [],
   "source": [
    "from core.models import get_lstm\n",
    "from core.data import load_records\n",
    "from core.losses import custom_bce, custom_bce_v2"
   ]
  },
  {
   "cell_type": "code",
   "execution_count": 29,
   "metadata": {},
   "outputs": [
    {
     "data": {
      "text/plain": [
       "16"
      ]
     },
     "execution_count": 29,
     "metadata": {},
     "output_type": "execute_result"
    }
   ],
   "source": [
    "metadata = pd.read_csv(os.path.join('./data/records/forced/fold_0/', 'test_samples.csv'))\n",
    "num_classes = len(metadata['alerceclass'].unique())\n",
    "\n",
    "train_batches = load_records(os.path.join('./data/records/forced/fold_0', 'train'),\n",
    "                             256,\n",
    "                             max_obs=200,\n",
    "                             num_classes=num_classes,\n",
    "                             sampling=False,\n",
    "                             shuffle=True)\n",
    "\n",
    "val_batches   = load_records(os.path.join('./data/records/forced/fold_0', 'val'),\n",
    "                             256,\n",
    "                             max_obs=200,\n",
    "                             num_classes=num_classes,\n",
    "                             sampling=False,\n",
    "                             shuffle=False)\n",
    "num_classes"
   ]
  },
  {
   "cell_type": "code",
   "execution_count": 30,
   "metadata": {},
   "outputs": [],
   "source": [
    "model = get_lstm(256, num_classes, max_obs=200, dropout=0.2)"
   ]
  },
  {
   "cell_type": "code",
   "execution_count": null,
   "metadata": {},
   "outputs": [],
   "source": []
  },
  {
   "cell_type": "code",
   "execution_count": 84,
   "metadata": {},
   "outputs": [
    {
     "name": "stdout",
     "output_type": "stream",
     "text": [
      "tf.Tensor(3.3824117, shape=(), dtype=float32)\n",
      "tf.Tensor(0.013219603, shape=(), dtype=float32)\n"
     ]
    },
    {
     "name": "stderr",
     "output_type": "stream",
     "text": [
      "2021-11-25 23:33:43.274656: W tensorflow/core/kernels/data/cache_dataset_ops.cc:768] The calling iterator did not fully read the dataset being cached. In order to avoid unexpected truncation of the dataset, the partially cached contents of the dataset  will be discarded. This can happen if you have an input pipeline similar to `dataset.cache().take(k).repeat()`. You should use `dataset.take(k).cache().repeat()` instead.\n"
     ]
    }
   ],
   "source": [
    "for x, y in train_batches:\n",
    "    output = model(x)\n",
    "    cce_0 = custom_bce_v2(y, output)\n",
    "    \n",
    "    cce_1 = custom_bce(y, output)\n",
    "    print(cce_0)\n",
    "    print(cce_1)\n",
    "    break"
   ]
  },
  {
   "cell_type": "code",
   "execution_count": null,
   "metadata": {},
   "outputs": [],
   "source": []
  },
  {
   "cell_type": "code",
   "execution_count": null,
   "metadata": {},
   "outputs": [],
   "source": []
  },
  {
   "cell_type": "code",
   "execution_count": null,
   "metadata": {},
   "outputs": [],
   "source": []
  },
  {
   "cell_type": "code",
   "execution_count": 97,
   "metadata": {},
   "outputs": [],
   "source": [
    "from core.data import load_records\n",
    "from astropackage.embeddings import SingleBand"
   ]
  },
  {
   "cell_type": "code",
   "execution_count": 98,
   "metadata": {},
   "outputs": [],
   "source": [
    "data = load_records('/tf/classifier/astromer/data/records/macho/train', 10, max_obs=200)"
   ]
  },
  {
   "cell_type": "code",
   "execution_count": 99,
   "metadata": {},
   "outputs": [
    {
     "name": "stdout",
     "output_type": "stream",
     "text": [
      "[INFO] Loading ASTROMER Embedding...\n"
     ]
    }
   ],
   "source": [
    "embedding = SingleBand()"
   ]
  },
  {
   "cell_type": "code",
   "execution_count": 151,
   "metadata": {},
   "outputs": [
    {
     "name": "stdout",
     "output_type": "stream",
     "text": [
      "(10, 200, 3)\n",
      "(10, 640)\n",
      "(10, 200, 128)\n",
      "tf.Tensor([200 200 200 200 200 200 200 200 200 200], shape=(10,), dtype=int32)\n"
     ]
    }
   ],
   "source": [
    "for batch in data:\n",
    "    print(batch['values'].shape)\n",
    "    magnitudes = tf.slice(batch['values'], [0,0,1], [-1,-1,1])\n",
    "    times = tf.slice(batch['values'], [0,0,0], [-1,-1,1])\n",
    "    mask = batch['mask']\n",
    "    \n",
    "    cls, reg = embedding([magnitudes, times, mask])\n",
    "    print(cls.shape)\n",
    "    print(reg.shape)\n",
    "    print(batch['length'])\n",
    "    break\n",
    "    "
   ]
  },
  {
   "cell_type": "code",
   "execution_count": 134,
   "metadata": {},
   "outputs": [
    {
     "ename": "TypeError",
     "evalue": "'int' object is not subscriptable",
     "output_type": "error",
     "traceback": [
      "\u001b[0;31m---------------------------------------------------------------------------\u001b[0m",
      "\u001b[0;31mTypeError\u001b[0m                                 Traceback (most recent call last)",
      "\u001b[0;32m<ipython-input-134-a35135e7b3eb>\u001b[0m in \u001b[0;36m<module>\u001b[0;34m\u001b[0m\n\u001b[0;32m----> 1\u001b[0;31m \u001b[0mclstkn\u001b[0m \u001b[0;34m=\u001b[0m \u001b[0mtf\u001b[0m\u001b[0;34m.\u001b[0m\u001b[0mtile\u001b[0m\u001b[0;34m(\u001b[0m\u001b[0mtf\u001b[0m\u001b[0;34m.\u001b[0m\u001b[0mcast\u001b[0m\u001b[0;34m(\u001b[0m\u001b[0;34m[\u001b[0m\u001b[0;34m[\u001b[0m\u001b[0;34m[\u001b[0m\u001b[0;34m-\u001b[0m\u001b[0;36m99\u001b[0m\u001b[0;34m]\u001b[0m\u001b[0;34m]\u001b[0m\u001b[0;34m]\u001b[0m\u001b[0;34m,\u001b[0m \u001b[0mtf\u001b[0m\u001b[0;34m.\u001b[0m\u001b[0mfloat32\u001b[0m\u001b[0;34m)\u001b[0m\u001b[0;34m,\u001b[0m \u001b[0;34m[\u001b[0m\u001b[0mserie\u001b[0m\u001b[0;34m[\u001b[0m\u001b[0;36m0\u001b[0m\u001b[0;34m]\u001b[0m\u001b[0;34m.\u001b[0m\u001b[0mshape\u001b[0m\u001b[0;34m[\u001b[0m\u001b[0;36m0\u001b[0m\u001b[0;34m]\u001b[0m\u001b[0;34m,\u001b[0m \u001b[0;36m1\u001b[0m\u001b[0;34m,\u001b[0m \u001b[0mserie\u001b[0m\u001b[0;34m[\u001b[0m\u001b[0;36m0\u001b[0m\u001b[0;34m]\u001b[0m\u001b[0;34m.\u001b[0m\u001b[0mshape\u001b[0m\u001b[0;34m[\u001b[0m\u001b[0;34m-\u001b[0m\u001b[0;36m1\u001b[0m\u001b[0;34m]\u001b[0m\u001b[0;34m]\u001b[0m\u001b[0;34m,\u001b[0m \u001b[0mname\u001b[0m\u001b[0;34m=\u001b[0m\u001b[0;34m'cls_tkn'\u001b[0m\u001b[0;34m)\u001b[0m\u001b[0;34m\u001b[0m\u001b[0;34m\u001b[0m\u001b[0m\n\u001b[0m\u001b[1;32m      2\u001b[0m \u001b[0mclstkn\u001b[0m\u001b[0;34m.\u001b[0m\u001b[0mshape\u001b[0m\u001b[0;34m\u001b[0m\u001b[0;34m\u001b[0m\u001b[0m\n",
      "\u001b[0;31mTypeError\u001b[0m: 'int' object is not subscriptable"
     ]
    }
   ],
   "source": [
    "clstkn = tf.tile(tf.cast([[[-99]]], tf.float32), [serie[0].shape[0], 1, serie[0].shape[-1]], name='cls_tkn')\n",
    "clstkn.shape"
   ]
  },
  {
   "cell_type": "code",
   "execution_count": 129,
   "metadata": {},
   "outputs": [],
   "source": [
    "dim = tf.shape(serie)\n",
    "series = tf.reshape(serie, [dim[0], dim[1]*dim[2], dim[3]])"
   ]
  },
  {
   "cell_type": "code",
   "execution_count": 130,
   "metadata": {},
   "outputs": [
    {
     "data": {
      "text/plain": [
       "<tf.Tensor: shape=(234, 1), dtype=float32, numpy=\n",
       "array([[-9.9000000e+01],\n",
       "       [ 4.8003569e-01],\n",
       "       [-7.5382793e-01],\n",
       "       [ 4.4839895e-01],\n",
       "       [ 2.6806447e-01],\n",
       "       [-1.8231760e+00],\n",
       "       [ 3.1868538e-01],\n",
       "       [ 9.0895012e-02],\n",
       "       [-1.3508840e-02],\n",
       "       [ 4.6421808e-01],\n",
       "       [ 3.3947043e-02],\n",
       "       [ 2.2377209e-01],\n",
       "       [ 4.4207188e-01],\n",
       "       [-1.6080413e+00],\n",
       "       [-9.4997996e-01],\n",
       "       [-7.9812026e-01],\n",
       "       [ 4.6602648e-02],\n",
       "       [ 6.7302573e-01],\n",
       "       [-1.4593451e+00],\n",
       "       [-2.7926451e-01],\n",
       "       [ 2.5541037e-01],\n",
       "       [ 2.9653922e-01],\n",
       "       [-3.2988390e-01],\n",
       "       [ 5.3382015e-01],\n",
       "       [-1.4322241e-01],\n",
       "       [-7.1817911e-03],\n",
       "       [-9.1517973e-01],\n",
       "       [-1.2740478e-01],\n",
       "       [-9.2602991e-02],\n",
       "       [ 3.7246832e-01],\n",
       "       [ 5.0851041e-01],\n",
       "       [-1.4846548e+00],\n",
       "       [ 2.7619995e-02],\n",
       "       [ 4.3208337e+00],\n",
       "       [ 6.2420271e-02],\n",
       "       [-2.3813568e-01],\n",
       "       [-1.7567375e+00],\n",
       "       [-1.3517778e+00],\n",
       "       [-4.7225305e-01],\n",
       "       [-5.2920109e-01],\n",
       "       [ 7.3313725e-01],\n",
       "       [-1.5542569e+00],\n",
       "       [ 6.9833547e-01],\n",
       "       [-9.5314354e-01],\n",
       "       [ 5.3065658e-01],\n",
       "       [ 3.1552187e-01],\n",
       "       [-2.6164446e-02],\n",
       "       [ 1.4354895e+00],\n",
       "       [ 1.9846238e-01],\n",
       "       [-1.8927796e+00],\n",
       "       [-1.3011569e+00],\n",
       "       [-1.1208223e+00],\n",
       "       [ 1.4467795e-01],\n",
       "       [ 3.1552187e-01],\n",
       "       [ 5.3382015e-01],\n",
       "       [-2.1282597e-01],\n",
       "       [ 7.1415460e-01],\n",
       "       [-9.2150676e-01],\n",
       "       [-2.6660889e-01],\n",
       "       [-6.6524321e-01],\n",
       "       [-7.2218966e-01],\n",
       "       [-9.9110883e-01],\n",
       "       [ 1.6980816e+00],\n",
       "       [ 3.2184893e-01],\n",
       "       [-6.7789727e-01],\n",
       "       [ 8.7731488e-02],\n",
       "       [ 3.7246832e-01],\n",
       "       [ 6.2873340e-01],\n",
       "       [-5.0072783e-01],\n",
       "       [-7.9495674e-01],\n",
       "       [-7.3620334e-02],\n",
       "       [ 4.4523540e-01],\n",
       "       [-1.9180893e+00],\n",
       "       [-1.6934625e+00],\n",
       "       [ 2.3009914e-01],\n",
       "       [ 4.1043362e-01],\n",
       "       [-1.3056831e-01],\n",
       "       [ 0.0000000e+00],\n",
       "       [-9.9000000e+01],\n",
       "       [ 4.1992572e-01],\n",
       "       [ 3.3947043e-02],\n",
       "       [ 2.4456471e-02],\n",
       "       [ 2.0162591e-01],\n",
       "       [ 8.4703165e-01],\n",
       "       [-1.1366415e+00],\n",
       "       [ 2.8072008e-01],\n",
       "       [ 1.3627239e+00],\n",
       "       [ 4.4523540e-01],\n",
       "       [ 1.6379702e+00],\n",
       "       [ 5.5280280e-01],\n",
       "       [-4.5643544e-01],\n",
       "       [ 3.1868538e-01],\n",
       "       [-2.0478032e+00],\n",
       "       [-1.4656721e+00],\n",
       "       [ 1.4956011e+00],\n",
       "       [-9.1834325e-01],\n",
       "       [ 1.1032953e+00],\n",
       "       [ 8.2804900e-01],\n",
       "       [-7.2535318e-01],\n",
       "       [-6.1145878e-01],\n",
       "       [-1.4005888e-01],\n",
       "       [ 6.5404308e-01],\n",
       "       [ 3.9461449e-01],\n",
       "       [ 2.8813257e+00],\n",
       "       [-2.0017037e-01],\n",
       "       [ 1.0558394e+00],\n",
       "       [-3.8818549e-02],\n",
       "       [ 1.2804663e+00],\n",
       "       [ 8.7550491e-01],\n",
       "       [ 9.7674519e-01],\n",
       "       [-1.8168490e+00],\n",
       "       [ 1.0969683e+00],\n",
       "       [-1.4005888e-01],\n",
       "       [ 6.2420271e-02],\n",
       "       [ 6.2873340e-01],\n",
       "       [ 3.0919331e-01],\n",
       "       [ 8.5335869e-01],\n",
       "       [ 9.2296225e-01],\n",
       "       [ 1.4323260e+00],\n",
       "       [-4.0581453e-01],\n",
       "       [-1.4530165e+00],\n",
       "       [-3.0141068e-01],\n",
       "       [-1.6220506e-01],\n",
       "       [ 1.9846238e-01],\n",
       "       [ 1.1728989e+00],\n",
       "       [-1.0132550e+00],\n",
       "       [-5.3869164e-01],\n",
       "       [-2.9192013e-01],\n",
       "       [-9.4048941e-01],\n",
       "       [ 7.5528342e-01],\n",
       "       [ 1.7315269e-01],\n",
       "       [ 2.8388360e-01],\n",
       "       [-7.9495674e-01],\n",
       "       [-5.6716639e-01],\n",
       "       [-8.2026643e-01],\n",
       "       [ 3.8177967e+00],\n",
       "       [ 3.0602980e-01],\n",
       "       [ 1.4291625e+00],\n",
       "       [ 1.3532319e+00],\n",
       "       [ 1.1936824e-01],\n",
       "       [ 3.3766803e-01],\n",
       "       [ 6.8748832e-02],\n",
       "       [-2.0699494e+00],\n",
       "       [ 4.3257982e-01],\n",
       "       [-6.0829520e-01],\n",
       "       [-8.4873968e-01],\n",
       "       [-2.0889320e+00],\n",
       "       [ 8.4386814e-01],\n",
       "       [ 2.2060856e-01],\n",
       "       [ 8.1402928e-02],\n",
       "       [-6.4129762e-02],\n",
       "       [ 3.5348567e-01],\n",
       "       [ 3.0602980e-01],\n",
       "       [-4.5010689e-01],\n",
       "       [-7.1817911e-03],\n",
       "       [ 0.0000000e+00],\n",
       "       [-9.9000000e+01],\n",
       "       [-7.1586257e-01],\n",
       "       [-5.0705492e-01],\n",
       "       [ 2.0808952e+00],\n",
       "       [-1.7947028e+00],\n",
       "       [-6.6840672e-01],\n",
       "       [ 1.1032953e+00],\n",
       "       [-1.0448933e+00],\n",
       "       [-4.1833377e+00],\n",
       "       [-6.4626056e-01],\n",
       "       [ 6.9517195e-01],\n",
       "       [ 1.6366060e-01],\n",
       "       [ 1.1191145e+00],\n",
       "       [ 1.0495124e+00],\n",
       "       [-4.5147106e-02],\n",
       "       [ 2.2693561e-01],\n",
       "       [-1.3960701e+00],\n",
       "       [-2.6344538e-01],\n",
       "       [ 3.6614126e-01],\n",
       "       [ 2.6806447e-01],\n",
       "       [-3.0773774e-01],\n",
       "       [-3.1722981e-01],\n",
       "       [-6.7157024e-01],\n",
       "       [ 1.6696085e+00],\n",
       "       [ 1.1936824e-01],\n",
       "       [-2.3167224e+00],\n",
       "       [-2.6977393e-01],\n",
       "       [-3.5835865e-01],\n",
       "       [ 1.4702914e+00],\n",
       "       [-1.4955096e-01],\n",
       "       [ 1.3753780e+00],\n",
       "       [ 2.4908179e-01],\n",
       "       [ 5.9393162e-01],\n",
       "       [ 1.4467795e-01],\n",
       "       [-4.4377983e-01],\n",
       "       [ 1.2140278e+00],\n",
       "       [ 2.4456471e-02],\n",
       "       [ 3.1868538e-01],\n",
       "       [ 4.7370863e-01],\n",
       "       [ 2.2377209e-01],\n",
       "       [-3.5835865e-01],\n",
       "       [-8.6275943e-02],\n",
       "       [ 2.9021066e-01],\n",
       "       [ 2.3642769e-01],\n",
       "       [ 8.0273932e-01],\n",
       "       [ 1.3202386e-01],\n",
       "       [-3.9632395e-01],\n",
       "       [ 7.1912356e-02],\n",
       "       [ 2.2060856e-01],\n",
       "       [ 0.0000000e+00],\n",
       "       [ 0.0000000e+00],\n",
       "       [ 0.0000000e+00],\n",
       "       [ 0.0000000e+00],\n",
       "       [ 0.0000000e+00],\n",
       "       [ 0.0000000e+00],\n",
       "       [ 0.0000000e+00],\n",
       "       [ 0.0000000e+00],\n",
       "       [ 0.0000000e+00],\n",
       "       [ 0.0000000e+00],\n",
       "       [ 0.0000000e+00],\n",
       "       [ 0.0000000e+00],\n",
       "       [ 0.0000000e+00],\n",
       "       [ 0.0000000e+00],\n",
       "       [ 0.0000000e+00],\n",
       "       [ 0.0000000e+00],\n",
       "       [ 0.0000000e+00],\n",
       "       [ 0.0000000e+00],\n",
       "       [ 0.0000000e+00],\n",
       "       [ 0.0000000e+00],\n",
       "       [ 0.0000000e+00],\n",
       "       [ 0.0000000e+00],\n",
       "       [ 0.0000000e+00],\n",
       "       [ 0.0000000e+00],\n",
       "       [ 0.0000000e+00],\n",
       "       [ 0.0000000e+00],\n",
       "       [ 0.0000000e+00],\n",
       "       [ 0.0000000e+00],\n",
       "       [ 0.0000000e+00]], dtype=float32)>"
      ]
     },
     "execution_count": 130,
     "metadata": {},
     "output_type": "execute_result"
    }
   ],
   "source": [
    "series[0]"
   ]
  },
  {
   "cell_type": "code",
   "execution_count": null,
   "metadata": {},
   "outputs": [],
   "source": []
  }
 ],
 "metadata": {
  "kernelspec": {
   "display_name": "Python 3 (ipykernel)",
   "language": "python",
   "name": "python3"
  },
  "language_info": {
   "codemirror_mode": {
    "name": "ipython",
    "version": 3
   },
   "file_extension": ".py",
   "mimetype": "text/x-python",
   "name": "python",
   "nbconvert_exporter": "python",
   "pygments_lexer": "ipython3",
   "version": "3.8.0"
  }
 },
 "nbformat": 4,
 "nbformat_minor": 2
}
