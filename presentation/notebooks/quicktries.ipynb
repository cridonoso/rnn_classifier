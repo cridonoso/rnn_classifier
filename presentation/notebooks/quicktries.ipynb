{
 "cells": [
  {
   "cell_type": "code",
   "execution_count": 6,
   "metadata": {},
   "outputs": [],
   "source": [
    "import tensorflow as tf "
   ]
  },
  {
   "cell_type": "code",
   "execution_count": 37,
   "metadata": {},
   "outputs": [],
   "source": [
    "def standardize(tensor, axis=0):\n",
    "    mean_value = tf.reduce_mean(tensor, axis, name='mean_value')\n",
    "    std_value = tf.math.reduce_std(tensor, axis, name='std_value')\n",
    "    if tf.rank(tensor) != tf.rank(mean_value):\n",
    "        mean_value = tf.expand_dims(mean_value, axis)\n",
    "        std_value = tf.expand_dims(std_value, axis)\n",
    "    normed = tf.where(std_value == 0.,\n",
    "                 (tensor - mean_value),\n",
    "                 (tensor - mean_value)/std_value)\n",
    "    return normed"
   ]
  },
  {
   "cell_type": "code",
   "execution_count": 38,
   "metadata": {},
   "outputs": [],
   "source": [
    "tensor = tf.random.normal([2, 10, 5])\n",
    "tensor = tf.random.normal([2, 10])"
   ]
  },
  {
   "cell_type": "code",
   "execution_count": 39,
   "metadata": {},
   "outputs": [
    {
     "name": "stdout",
     "output_type": "stream",
     "text": [
      "tf.Tensor(\n",
      "[[-0.71085036 -0.16152762  0.47986954  0.1828245  -0.64416564 -0.04579621\n",
      "   0.58240044  0.8055393  -0.12153731 -0.196001  ]], shape=(1, 10), dtype=float32)\n",
      "tf.Tensor(\n",
      "[[ 1.          1.          1.          1.0000001  -0.9999999   1.0000001\n",
      "   1.0000007   1.         -1.0000001  -1.        ]\n",
      " [-1.         -1.         -1.0000001  -1.          1.         -1.0000001\n",
      "  -0.99999946 -1.          0.9999998   1.        ]], shape=(2, 10), dtype=float32)\n"
     ]
    }
   ],
   "source": [
    "b = standardize(tensor, axis=0)"
   ]
  },
  {
   "cell_type": "code",
   "execution_count": null,
   "metadata": {},
   "outputs": [],
   "source": []
  }
 ],
 "metadata": {
  "kernelspec": {
   "display_name": "Python 3",
   "language": "python",
   "name": "python3"
  },
  "language_info": {
   "codemirror_mode": {
    "name": "ipython",
    "version": 3
   },
   "file_extension": ".py",
   "mimetype": "text/x-python",
   "name": "python",
   "nbconvert_exporter": "python",
   "pygments_lexer": "ipython3",
   "version": "3.6.9"
  }
 },
 "nbformat": 4,
 "nbformat_minor": 2
}
