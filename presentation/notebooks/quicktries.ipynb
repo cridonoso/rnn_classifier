{
 "cells": [
  {
   "cell_type": "code",
   "execution_count": 122,
   "metadata": {},
   "outputs": [
    {
     "name": "stdout",
     "output_type": "stream",
     "text": [
      "The autoreload extension is already loaded. To reload it, use:\n",
      "  %reload_ext autoreload\n"
     ]
    }
   ],
   "source": [
    "import tensorflow as tf \n",
    "%load_ext autoreload\n",
    "%autoreload 2"
   ]
  },
  {
   "cell_type": "code",
   "execution_count": 123,
   "metadata": {},
   "outputs": [],
   "source": [
    "def standardize(tensor, axis=0):\n",
    "    mean_value = tf.reduce_mean(tensor, axis, name='mean_value')\n",
    "    std_value = tf.math.reduce_std(tensor, axis, name='std_value')\n",
    "    if tf.rank(tensor) != tf.rank(mean_value):\n",
    "        mean_value = tf.expand_dims(mean_value, axis)\n",
    "        std_value = tf.expand_dims(std_value, axis)\n",
    "    normed = tf.where(std_value == 0.,\n",
    "                 (tensor - mean_value),\n",
    "                 (tensor - mean_value)/std_value)\n",
    "    return normed"
   ]
  },
  {
   "cell_type": "code",
   "execution_count": 124,
   "metadata": {},
   "outputs": [],
   "source": [
    "tensor = tf.random.normal([2, 10, 5])\n",
    "tensor = tf.random.normal([2, 10])"
   ]
  },
  {
   "cell_type": "code",
   "execution_count": 125,
   "metadata": {},
   "outputs": [],
   "source": [
    "b = standardize(tensor, axis=0)"
   ]
  },
  {
   "cell_type": "code",
   "execution_count": 126,
   "metadata": {},
   "outputs": [
    {
     "name": "stdout",
     "output_type": "stream",
     "text": [
      "/tf/classifier\n"
     ]
    }
   ],
   "source": [
    "cd /tf/classifier"
   ]
  },
  {
   "cell_type": "code",
   "execution_count": 134,
   "metadata": {},
   "outputs": [],
   "source": [
    "from core.data import load_records\n",
    "from astropackage.embeddings import ASTROMER_EMBEDDING"
   ]
  },
  {
   "cell_type": "code",
   "execution_count": 135,
   "metadata": {},
   "outputs": [],
   "source": [
    "data = load_records('/tf/classifier/astromer/data/records/macho/train', 50, max_obs=51)"
   ]
  },
  {
   "cell_type": "code",
   "execution_count": 136,
   "metadata": {},
   "outputs": [
    {
     "name": "stdout",
     "output_type": "stream",
     "text": [
      "[INFO] Loading ASTROMER Embedding...\n"
     ]
    }
   ],
   "source": [
    "embedding = ASTROMER_EMBEDDING()"
   ]
  },
  {
   "cell_type": "code",
   "execution_count": 151,
   "metadata": {},
   "outputs": [
    {
     "name": "stdout",
     "output_type": "stream",
     "text": [
      "tf.Tensor(\n",
      "[[ 0.6175879 ]\n",
      " [ 0.8592776 ]\n",
      " [ 2.2820482 ]\n",
      " [ 2.0540402 ]\n",
      " [ 0.79087466]\n",
      " [ 0.18893304]\n",
      " [ 1.3426548 ]\n",
      " [ 1.4110568 ]\n",
      " [ 0.10684951]\n",
      " [ 0.57654727]\n",
      " [-0.15307954]\n",
      " [ 0.18437321]\n",
      " [-0.45861018]\n",
      " [-0.01171379]\n",
      " [-0.5908552 ]\n",
      " [-0.65013736]\n",
      " [ 0.6130281 ]\n",
      " [ 0.6586297 ]\n",
      " [-0.16676012]\n",
      " [-0.1621992 ]\n",
      " [-0.47229078]\n",
      " [-0.11203776]\n",
      " [-1.2338386 ]\n",
      " [-1.1973577 ]\n",
      " [-0.37652773]\n",
      " [ 0.1661317 ]\n",
      " [ 1.6208243 ]\n",
      " [-1.0651127 ]\n",
      " [-1.0468712 ]\n",
      " [-0.48141152]\n",
      " [-0.42212933]\n",
      " [-1.9224236 ]\n",
      " [-1.8677012 ]\n",
      " [-0.8188632 ]\n",
      " [ 0.2710155 ]\n",
      " [ 1.8032318 ]\n",
      " [-0.3446067 ]\n",
      " [ 0.19349289]\n",
      " [ 0.8182359 ]\n",
      " [ 0.36677963]\n",
      " [ 0.15245111]\n",
      " [ 0.55374587]\n",
      " [ 1.8351529 ]\n",
      " [-0.3537264 ]\n",
      " [ 0.32117802]\n",
      " [-1.5302496 ]\n",
      " [-1.0012696 ]\n",
      " [ 0.1205301 ]\n",
      " [-0.923747  ]\n",
      " [-2.168672  ]\n",
      " [-0.37652773]], shape=(51, 1), dtype=float32)\n",
      "tf.Tensor(\n",
      "[[ 0.61758894]\n",
      " [ 0.8592786 ]\n",
      " [ 2.2820494 ]\n",
      " [ 2.0540414 ]\n",
      " [ 0.7908757 ]\n",
      " [ 0.18893403]\n",
      " [ 1.3426559 ]\n",
      " [ 1.4110578 ]\n",
      " [ 0.10685048]\n",
      " [ 0.5765483 ]\n",
      " [-0.15307859]\n",
      " [ 0.1843742 ]\n",
      " [-0.45860925]\n",
      " [-0.01171283]\n",
      " [-0.5908543 ]\n",
      " [-0.6501365 ]\n",
      " [ 0.6130291 ]\n",
      " [ 0.6586307 ]\n",
      " [-0.16675916]\n",
      " [-0.16219825]\n",
      " [-0.47228986]\n",
      " [-0.11203681]\n",
      " [-1.2338377 ]\n",
      " [-1.1973568 ]\n",
      " [-0.3765268 ]\n",
      " [ 0.16613269]\n",
      " [ 1.6208254 ]\n",
      " [-1.0651119 ]\n",
      " [-1.0468704 ]\n",
      " [-0.4814106 ]\n",
      " [-0.4221284 ]\n",
      " [-1.9224228 ]\n",
      " [-1.8677003 ]\n",
      " [-0.8188623 ]\n",
      " [ 0.27101648]\n",
      " [ 1.8032329 ]\n",
      " [-0.34460577]\n",
      " [ 0.19349387]\n",
      " [ 0.8182369 ]\n",
      " [ 0.3667806 ]\n",
      " [ 0.1524521 ]\n",
      " [ 0.5537469 ]\n",
      " [ 1.8351539 ]\n",
      " [-0.35372546]\n",
      " [ 0.321179  ]\n",
      " [-1.5302488 ]\n",
      " [-1.0012687 ]\n",
      " [ 0.12053107]\n",
      " [-0.9237461 ]\n",
      " [-2.1686714 ]\n",
      " [-0.3765268 ]], shape=(51, 1), dtype=float32)\n"
     ]
    }
   ],
   "source": [
    "for batch in data:\n",
    "    magnitudes = tf.slice(batch['values'], [0,0,1], [-1,-1,1])\n",
    "    embedding(magnitudes, batch['times'], batch['length'])\n",
    "    break"
   ]
  },
  {
   "cell_type": "code",
   "execution_count": null,
   "metadata": {},
   "outputs": [],
   "source": []
  },
  {
   "cell_type": "code",
   "execution_count": null,
   "metadata": {},
   "outputs": [],
   "source": []
  }
 ],
 "metadata": {
  "kernelspec": {
   "display_name": "Python 3",
   "language": "python",
   "name": "python3"
  },
  "language_info": {
   "codemirror_mode": {
    "name": "ipython",
    "version": 3
   },
   "file_extension": ".py",
   "mimetype": "text/x-python",
   "name": "python",
   "nbconvert_exporter": "python",
   "pygments_lexer": "ipython3",
   "version": "3.6.9"
  }
 },
 "nbformat": 4,
 "nbformat_minor": 2
}
