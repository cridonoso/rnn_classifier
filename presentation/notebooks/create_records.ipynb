{
 "cells": [
  {
   "cell_type": "markdown",
   "metadata": {},
   "source": [
    "# Create Records  Tutorial"
   ]
  },
  {
   "cell_type": "code",
   "execution_count": 3,
   "metadata": {},
   "outputs": [
    {
     "name": "stdout",
     "output_type": "stream",
     "text": [
      "/home/users/cdonoso/rnn_classifier\n"
     ]
    }
   ],
   "source": [
    "cd /home/users/cdonoso/rnn_classifier/"
   ]
  },
  {
   "cell_type": "code",
   "execution_count": 17,
   "metadata": {},
   "outputs": [
    {
     "name": "stdout",
     "output_type": "stream",
     "text": [
      "The autoreload extension is already loaded. To reload it, use:\n",
      "  %reload_ext autoreload\n"
     ]
    }
   ],
   "source": [
    "import tensorflow as tf\n",
    "import numpy as np\n",
    "import pandas as pd\n",
    "import matplotlib.pyplot as plt\n",
    "from core.data import create_dataset\n",
    "import os\n",
    "%load_ext autoreload\n",
    "%autoreload 2"
   ]
  },
  {
   "cell_type": "code",
   "execution_count": 5,
   "metadata": {},
   "outputs": [
    {
     "data": {
      "text/html": [
       "<div>\n",
       "<style scoped>\n",
       "    .dataframe tbody tr th:only-of-type {\n",
       "        vertical-align: middle;\n",
       "    }\n",
       "\n",
       "    .dataframe tbody tr th {\n",
       "        vertical-align: top;\n",
       "    }\n",
       "\n",
       "    .dataframe thead th {\n",
       "        text-align: right;\n",
       "    }\n",
       "</style>\n",
       "<table border=\"1\" class=\"dataframe\">\n",
       "  <thead>\n",
       "    <tr style=\"text-align: right;\">\n",
       "      <th></th>\n",
       "      <th>oid</th>\n",
       "      <th>ra</th>\n",
       "      <th>dec</th>\n",
       "      <th>submitter</th>\n",
       "      <th>alerceclass</th>\n",
       "      <th>partition</th>\n",
       "    </tr>\n",
       "  </thead>\n",
       "  <tbody>\n",
       "    <tr>\n",
       "      <th>77021</th>\n",
       "      <td>ZTF20aaayaet</td>\n",
       "      <td>134.217718</td>\n",
       "      <td>53.794479</td>\n",
       "      <td>jsilva</td>\n",
       "      <td>SNIa</td>\n",
       "      <td>validation_1</td>\n",
       "    </tr>\n",
       "  </tbody>\n",
       "</table>\n",
       "</div>"
      ],
      "text/plain": [
       "                oid          ra        dec submitter alerceclass     partition\n",
       "77021  ZTF20aaayaet  134.217718  53.794479    jsilva        SNIa  validation_1"
      ]
     },
     "execution_count": 5,
     "metadata": {},
     "output_type": "execute_result"
    }
   ],
   "source": [
    "metadata = pd.read_csv('./data/raw_data/ztf_forced/metadata.csv')\n",
    "metadata = metadata.replace({'EB/EW':'EB&EW', 'CV/Nova':'CV&Nova'})\n",
    "metadata.sample(1)"
   ]
  },
  {
   "cell_type": "code",
   "execution_count": 6,
   "metadata": {},
   "outputs": [
    {
     "data": {
      "text/plain": [
       "array(['AGN', 'Blazar', 'CVNova', 'Ceph', 'DSCT', 'EA', 'EBEW', 'LPV',\n",
       "       'Periodic-Other', 'QSO', 'RRLab', 'RRLc', 'RSCVn', 'SNIa', 'YSO',\n",
       "       'nonSNIa'], dtype=object)"
      ]
     },
     "execution_count": 6,
     "metadata": {},
     "output_type": "execute_result"
    }
   ],
   "source": [
    "metadata['alerceclass'].unique()"
   ]
  },
  {
   "cell_type": "code",
   "execution_count": 7,
   "metadata": {},
   "outputs": [],
   "source": [
    "transient = ['SNIa', 'nonSNIa']#['SNIa', 'SNIbc', 'SNII', 'SNIIn', 'SNIIb', 'SLSN', 'TDE']\n",
    "stochastic = ['QSO', 'AGN', 'Blazar', 'CVNova', 'YSO'] \n",
    "periodic = ['LPV', 'RSCVn', 'Ceph', 'EA', 'EBEW', 'RRLc', 'RRLab', 'DSCT', 'Periodic-Other']"
   ]
  },
  {
   "cell_type": "code",
   "execution_count": 72,
   "metadata": {},
   "outputs": [],
   "source": [
    "change = {'SNIa':'Transient', 'nonSNIa':'Transient', 'QSO':'Stochastic', 'AGN':'Stochastic', \n",
    " 'Blazar':'Stochastic', 'CVNova':'Stochastic', 'YSO':'Stochastic', \n",
    " 'LPV':'Periodic', 'RSCVn':'Periodic', 'Ceph':'Periodic', 'EA':'Periodic', \n",
    " 'EBEW':'Periodic', 'RRLc':'Periodic', 'RRLab':'Periodic', 'DSCT':'Periodic', 'Periodic-Other':'Periodic'}"
   ]
  },
  {
   "cell_type": "code",
   "execution_count": 9,
   "metadata": {},
   "outputs": [],
   "source": [
    "# metadata['alerceclass'] = metadata['alerceclass'].replace(change)"
   ]
  },
  {
   "cell_type": "code",
   "execution_count": 11,
   "metadata": {},
   "outputs": [
    {
     "data": {
      "text/plain": [
       "['SNIa',\n",
       " 'nonSNIa',\n",
       " 'QSO',\n",
       " 'AGN',\n",
       " 'Blazar',\n",
       " 'CVNova',\n",
       " 'YSO',\n",
       " 'LPV',\n",
       " 'RSCVn',\n",
       " 'Ceph',\n",
       " 'EA',\n",
       " 'EBEW',\n",
       " 'RRLc',\n",
       " 'RRLab',\n",
       " 'DSCT',\n",
       " 'Periodic-Other']"
      ]
     },
     "execution_count": 11,
     "metadata": {},
     "output_type": "execute_result"
    }
   ],
   "source": [
    "class_names =transient+stochastic+periodic\n",
    "class_names"
   ]
  },
  {
   "cell_type": "markdown",
   "metadata": {},
   "source": [
    "# Reading observations"
   ]
  },
  {
   "cell_type": "code",
   "execution_count": 12,
   "metadata": {},
   "outputs": [
    {
     "name": "stdout",
     "output_type": "stream",
     "text": [
      "CPU times: user 8.44 s, sys: 663 ms, total: 9.11 s\n",
      "Wall time: 9.11 s\n"
     ]
    }
   ],
   "source": [
    "%%time\n",
    "observations = pd.read_csv('./data/raw_data/ztf_forced/detections.csv')"
   ]
  },
  {
   "cell_type": "code",
   "execution_count": 13,
   "metadata": {},
   "outputs": [
    {
     "data": {
      "text/html": [
       "<div>\n",
       "<style scoped>\n",
       "    .dataframe tbody tr th:only-of-type {\n",
       "        vertical-align: middle;\n",
       "    }\n",
       "\n",
       "    .dataframe tbody tr th {\n",
       "        vertical-align: top;\n",
       "    }\n",
       "\n",
       "    .dataframe thead th {\n",
       "        text-align: right;\n",
       "    }\n",
       "</style>\n",
       "<table border=\"1\" class=\"dataframe\">\n",
       "  <thead>\n",
       "    <tr style=\"text-align: right;\">\n",
       "      <th></th>\n",
       "      <th>oid</th>\n",
       "      <th>index</th>\n",
       "      <th>forcediffimflux</th>\n",
       "      <th>forcediffimfluxunc</th>\n",
       "      <th>forcediffimsnr</th>\n",
       "      <th>mjd</th>\n",
       "      <th>fid</th>\n",
       "      <th>flux_diff_ujy</th>\n",
       "      <th>sigma_flux_diff_ujy</th>\n",
       "    </tr>\n",
       "  </thead>\n",
       "  <tbody>\n",
       "    <tr>\n",
       "      <th>5225795</th>\n",
       "      <td>ZTF18ababjtc</td>\n",
       "      <td>1505</td>\n",
       "      <td>22474.961764</td>\n",
       "      <td>108.863458</td>\n",
       "      <td>229.652744</td>\n",
       "      <td>58975.472407</td>\n",
       "      <td>1</td>\n",
       "      <td>2412.231373</td>\n",
       "      <td>11.684285</td>\n",
       "    </tr>\n",
       "    <tr>\n",
       "      <th>8310618</th>\n",
       "      <td>ZTF18acaxqcg</td>\n",
       "      <td>155</td>\n",
       "      <td>130.263870</td>\n",
       "      <td>35.092423</td>\n",
       "      <td>4.129195</td>\n",
       "      <td>58235.491782</td>\n",
       "      <td>1</td>\n",
       "      <td>15.413596</td>\n",
       "      <td>4.152344</td>\n",
       "    </tr>\n",
       "  </tbody>\n",
       "</table>\n",
       "</div>"
      ],
      "text/plain": [
       "                  oid  index  forcediffimflux  forcediffimfluxunc  \\\n",
       "5225795  ZTF18ababjtc   1505     22474.961764          108.863458   \n",
       "8310618  ZTF18acaxqcg    155       130.263870           35.092423   \n",
       "\n",
       "         forcediffimsnr           mjd  fid  flux_diff_ujy  sigma_flux_diff_ujy  \n",
       "5225795      229.652744  58975.472407    1    2412.231373            11.684285  \n",
       "8310618        4.129195  58235.491782    1      15.413596             4.152344  "
      ]
     },
     "execution_count": 13,
     "metadata": {},
     "output_type": "execute_result"
    }
   ],
   "source": [
    "observations.sample(2)"
   ]
  },
  {
   "cell_type": "markdown",
   "metadata": {},
   "source": [
    "# Writting records"
   ]
  },
  {
   "cell_type": "code",
   "execution_count": 15,
   "metadata": {},
   "outputs": [],
   "source": [
    "test_df = metadata[metadata['partition'] == 'test']"
   ]
  },
  {
   "cell_type": "code",
   "execution_count": 20,
   "metadata": {},
   "outputs": [
    {
     "name": "stdout",
     "output_type": "stream",
     "text": [
      "[INFO] Preprocessing lighcurves...\n"
     ]
    },
    {
     "name": "stderr",
     "output_type": "stream",
     "text": [
      "100%|███████████████████████████████████| 14481/14481 [00:12<00:00, 1148.38it/s]\n"
     ]
    },
    {
     "name": "stdout",
     "output_type": "stream",
     "text": [
      "[INFO] Preprocessing lighcurves...\n"
     ]
    },
    {
     "name": "stderr",
     "output_type": "stream",
     "text": [
      "100%|█████████████████████████████████████| 1609/1609 [00:01<00:00, 1160.63it/s]\n"
     ]
    },
    {
     "name": "stdout",
     "output_type": "stream",
     "text": [
      "[INFO] Preprocessing lighcurves...\n"
     ]
    },
    {
     "name": "stderr",
     "output_type": "stream",
     "text": [
      "100%|█████████████████████████████████████| 1600/1600 [00:01<00:00, 1145.99it/s]\n"
     ]
    },
    {
     "name": "stdout",
     "output_type": "stream",
     "text": [
      "[INFO] Preprocessing lighcurves...\n"
     ]
    },
    {
     "name": "stderr",
     "output_type": "stream",
     "text": [
      "100%|███████████████████████████████████| 14481/14481 [00:12<00:00, 1140.79it/s]\n"
     ]
    },
    {
     "name": "stdout",
     "output_type": "stream",
     "text": [
      "[INFO] Preprocessing lighcurves...\n"
     ]
    },
    {
     "name": "stderr",
     "output_type": "stream",
     "text": [
      "100%|█████████████████████████████████████| 1609/1609 [00:01<00:00, 1187.78it/s]\n"
     ]
    },
    {
     "name": "stdout",
     "output_type": "stream",
     "text": [
      "[INFO] Preprocessing lighcurves...\n"
     ]
    },
    {
     "name": "stderr",
     "output_type": "stream",
     "text": [
      "100%|█████████████████████████████████████| 1600/1600 [00:01<00:00, 1150.80it/s]\n"
     ]
    },
    {
     "name": "stdout",
     "output_type": "stream",
     "text": [
      "[INFO] Preprocessing lighcurves...\n"
     ]
    },
    {
     "name": "stderr",
     "output_type": "stream",
     "text": [
      "100%|███████████████████████████████████| 14481/14481 [00:12<00:00, 1148.32it/s]\n"
     ]
    },
    {
     "name": "stdout",
     "output_type": "stream",
     "text": [
      "[INFO] Preprocessing lighcurves...\n"
     ]
    },
    {
     "name": "stderr",
     "output_type": "stream",
     "text": [
      "100%|█████████████████████████████████████| 1609/1609 [00:01<00:00, 1155.64it/s]\n"
     ]
    },
    {
     "name": "stdout",
     "output_type": "stream",
     "text": [
      "[INFO] Preprocessing lighcurves...\n"
     ]
    },
    {
     "name": "stderr",
     "output_type": "stream",
     "text": [
      "100%|█████████████████████████████████████| 1600/1600 [00:01<00:00, 1159.86it/s]"
     ]
    },
    {
     "name": "stdout",
     "output_type": "stream",
     "text": [
      "CPU times: user 1min 14s, sys: 4.59 s, total: 1min 18s\n",
      "Wall time: 1min 20s\n"
     ]
    },
    {
     "name": "stderr",
     "output_type": "stream",
     "text": [
      "\n"
     ]
    }
   ],
   "source": [
    "%%time\n",
    "for fold_n in range(3):\n",
    "    os.makedirs('data/records/forced/fold_{}'.format(fold_n), exist_ok=True)\n",
    "    test_df.to_csv('data/records/forced/fold_{}/test_samples.csv'.format(fold_n), index=False)\n",
    "    \n",
    "    create_dataset(metadata[metadata['partition'] == 'training_{}'.format(fold_n)], \n",
    "                   observations,\n",
    "                   target='data/records/forced/fold_{}/train'.format(fold_n),\n",
    "                   n_jobs = 8,\n",
    "                   unique_labels=class_names)\n",
    "    \n",
    "    create_dataset(metadata[metadata['partition'] == 'validation_{}'.format(fold_n)], \n",
    "                   observations,\n",
    "                   target='data/records/forced/fold_{}/val'.format(fold_n),\n",
    "                   n_jobs = 8,\n",
    "                   unique_labels=class_names)\n",
    "    \n",
    "    create_dataset(test_df, \n",
    "                   observations,\n",
    "                   target='data/records/forced/fold_{}/test'.format(fold_n),\n",
    "                   n_jobs = 8,\n",
    "                   unique_labels=class_names)"
   ]
  },
  {
   "cell_type": "markdown",
   "metadata": {},
   "source": [
    "# Reading records"
   ]
  },
  {
   "cell_type": "code",
   "execution_count": 26,
   "metadata": {},
   "outputs": [
    {
     "name": "stdout",
     "output_type": "stream",
     "text": [
      "The autoreload extension is already loaded. To reload it, use:\n",
      "  %reload_ext autoreload\n"
     ]
    }
   ],
   "source": [
    "from core.data import load_records\n",
    "import numpy as np\n",
    "import matplotlib.pyplot as plt\n",
    "%load_ext autoreload\n",
    "%autoreload 2"
   ]
  },
  {
   "cell_type": "code",
   "execution_count": 27,
   "metadata": {},
   "outputs": [],
   "source": [
    "test_df = pd.read_csv('./data/records/forced/fold_0/test_samples.csv')\n",
    "num_classes = len(metadata['alerceclass'].unique())"
   ]
  },
  {
   "cell_type": "code",
   "execution_count": 30,
   "metadata": {},
   "outputs": [],
   "source": [
    "dataset = load_records('./data/records/forced/fold_0/test/', batch_size=256, \n",
    "                       max_obs=200, num_classes=num_classes, \n",
    "                       sampling=False, shuffle=True)"
   ]
  },
  {
   "cell_type": "code",
   "execution_count": 31,
   "metadata": {},
   "outputs": [
    {
     "name": "stdout",
     "output_type": "stream",
     "text": [
      "(200, 3)\n"
     ]
    },
    {
     "name": "stderr",
     "output_type": "stream",
     "text": [
      "2021-11-25 22:57:34.903669: W tensorflow/core/kernels/data/cache_dataset_ops.cc:768] The calling iterator did not fully read the dataset being cached. In order to avoid unexpected truncation of the dataset, the partially cached contents of the dataset  will be discarded. This can happen if you have an input pipeline similar to `dataset.cache().take(k).repeat()`. You should use `dataset.take(k).cache().repeat()` instead.\n"
     ]
    },
    {
     "data": {
      "image/png": "[encoded data removed]",
      "text/plain": [
       "<Figure size 432x288 with 1 Axes>"
      ]
     },
     "metadata": {
      "needs_background": "light"
     },
     "output_type": "display_data"
    }
   ],
   "source": [
    "for x, y in dataset:\n",
    "    sample = x['input'][0]\n",
    "    print(sample.shape)\n",
    "    plt.errorbar(sample[:, 0], sample[:, 1], yerr=sample[:, 2])\n",
    "    plt.title('{}'.format(class_names[np.argmax(y[0], 0)]))\n",
    "    break"
   ]
  },
  {
   "cell_type": "code",
   "execution_count": 35,
   "metadata": {},
   "outputs": [
    {
     "data": {
      "text/plain": [
       "<tf.Tensor: shape=(), dtype=string, numpy=b'ZTF20abccojn'>"
      ]
     },
     "execution_count": 35,
     "metadata": {},
     "output_type": "execute_result"
    }
   ],
   "source": [
    "x['id'][0]"
   ]
  },
  {
   "cell_type": "code",
   "execution_count": null,
   "metadata": {},
   "outputs": [],
   "source": []
  },
  {
   "cell_type": "code",
   "execution_count": null,
   "metadata": {},
   "outputs": [],
   "source": []
  },
  {
   "cell_type": "code",
   "execution_count": null,
   "metadata": {},
   "outputs": [],
   "source": []
  }
 ],
 "metadata": {
  "kernelspec": {
   "display_name": "Python 3 (ipykernel)",
   "language": "python",
   "name": "python3"
  },
  "language_info": {
   "codemirror_mode": {
    "name": "ipython",
    "version": 3
   },
   "file_extension": ".py",
   "mimetype": "text/x-python",
   "name": "python",
   "nbconvert_exporter": "python",
   "pygments_lexer": "ipython3",
   "version": "3.8.0"
  }
 },
 "nbformat": 4,
 "nbformat_minor": 2
}
