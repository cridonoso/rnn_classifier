{
 "cells": [
  {
   "cell_type": "code",
   "execution_count": 1,
   "metadata": {},
   "outputs": [
    {
     "name": "stdout",
     "output_type": "stream",
     "text": [
      "/tf/classifier\n"
     ]
    }
   ],
   "source": [
    "cd /tf/classifier"
   ]
  },
  {
   "cell_type": "code",
   "execution_count": 17,
   "metadata": {},
   "outputs": [
    {
     "name": "stdout",
     "output_type": "stream",
     "text": [
      "The autoreload extension is already loaded. To reload it, use:\n",
      "  %reload_ext autoreload\n"
     ]
    }
   ],
   "source": [
    "import tensorflow as tf\n",
    "import numpy as np\n",
    "import pandas as pd\n",
    "import matplotlib.pyplot as plt\n",
    "from core.data import create_dataset, load_records\n",
    "\n",
    "%load_ext autoreload\n",
    "%autoreload 2"
   ]
  },
  {
   "cell_type": "code",
   "execution_count": 18,
   "metadata": {},
   "outputs": [
    {
     "data": {
      "text/html": [
       "<div>\n",
       "<style scoped>\n",
       "    .dataframe tbody tr th:only-of-type {\n",
       "        vertical-align: middle;\n",
       "    }\n",
       "\n",
       "    .dataframe tbody tr th {\n",
       "        vertical-align: top;\n",
       "    }\n",
       "\n",
       "    .dataframe thead th {\n",
       "        text-align: right;\n",
       "    }\n",
       "</style>\n",
       "<table border=\"1\" class=\"dataframe\">\n",
       "  <thead>\n",
       "    <tr style=\"text-align: right;\">\n",
       "      <th></th>\n",
       "      <th>oid</th>\n",
       "      <th>classALeRCE</th>\n",
       "      <th>ra</th>\n",
       "      <th>dec</th>\n",
       "      <th>period</th>\n",
       "      <th>source</th>\n",
       "      <th>id_source</th>\n",
       "      <th>class_source</th>\n",
       "      <th>separation_arcsec</th>\n",
       "    </tr>\n",
       "  </thead>\n",
       "  <tbody>\n",
       "    <tr>\n",
       "      <th>255283</th>\n",
       "      <td>ZTF18abznqdz</td>\n",
       "      <td>RRL</td>\n",
       "      <td>325.429471</td>\n",
       "      <td>-21.817943</td>\n",
       "      <td>0.5484106</td>\n",
       "      <td>ASASSN</td>\n",
       "      <td>ASASSN-V J214143.00-214904.4</td>\n",
       "      <td>RRAB</td>\n",
       "      <td>0.992614</td>\n",
       "    </tr>\n",
       "  </tbody>\n",
       "</table>\n",
       "</div>"
      ],
      "text/plain": [
       "                 oid classALeRCE          ra        dec     period  source  \\\n",
       "255283  ZTF18abznqdz         RRL  325.429471 -21.817943  0.5484106  ASASSN   \n",
       "\n",
       "                           id_source class_source  separation_arcsec  \n",
       "255283  ASASSN-V J214143.00-214904.4         RRAB           0.992614  "
      ]
     },
     "execution_count": 18,
     "metadata": {},
     "output_type": "execute_result"
    }
   ],
   "source": [
    "metadata = pd.read_csv('./data/raw_data/ztf/dfcrossmatches_ZTF_prioritized_v8.0.1.csv')\n",
    "metadata = metadata.replace({'EB/EW':'EB&EW', 'CV/Nova':'CV&Nova'})\n",
    "metadata.sample(1)"
   ]
  },
  {
   "cell_type": "code",
   "execution_count": 19,
   "metadata": {},
   "outputs": [
    {
     "data": {
      "text/plain": [
       "array(['CV&Nova', 'Blazar', 'AGN', 'QSO', 'NLQSO', 'NLAGN', 'YSO',\n",
       "       'RSCVn', 'RRL', 'EB&EW', 'Periodic-Other', 'LPV', 'SNIa', 'SNIbc',\n",
       "       'SNII', 'SNIIn', 'SNIIb', 'SLSN', 'EA', 'DSCT', 'Ceph', 'ZZ'],\n",
       "      dtype=object)"
      ]
     },
     "execution_count": 19,
     "metadata": {},
     "output_type": "execute_result"
    }
   ],
   "source": [
    "metadata['classALeRCE'].unique()"
   ]
  },
  {
   "cell_type": "code",
   "execution_count": 20,
   "metadata": {},
   "outputs": [],
   "source": [
    "stochastic = ['QSO','AGN', 'Blazar','CV&Nova','YSO']\n",
    "periodic = ['LPV', 'EA', 'DSCT','RRL', 'Ceph', 'Periodic-Other']\n",
    "transient = ['SNIa', 'SNIbc','SNII','SLSN']"
   ]
  },
  {
   "cell_type": "code",
   "execution_count": 21,
   "metadata": {},
   "outputs": [],
   "source": [
    "metadata = metadata[metadata.classALeRCE.isin(stochastic+periodic+transient)]"
   ]
  },
  {
   "cell_type": "code",
   "execution_count": 22,
   "metadata": {},
   "outputs": [],
   "source": [
    "class_names =list( metadata['classALeRCE'].unique())"
   ]
  },
  {
   "cell_type": "code",
   "execution_count": 23,
   "metadata": {},
   "outputs": [
    {
     "name": "stderr",
     "output_type": "stream",
     "text": [
      "100%|██████████| 15/15 [00:00<00:00, 92.42it/s]\n"
     ]
    }
   ],
   "source": [
    "create_dataset(metadata,\n",
    "               source='./data/raw_data/ztf/detections_v8.csv',\n",
    "               target='data/records/ztf',\n",
    "               max_lcs_per_record=20000,\n",
    "               debug=True)"
   ]
  },
  {
   "cell_type": "code",
   "execution_count": null,
   "metadata": {},
   "outputs": [],
   "source": []
  },
  {
   "cell_type": "code",
   "execution_count": 28,
   "metadata": {},
   "outputs": [],
   "source": [
    "dataset = load_records('./data/records/ztf/train', batch_size=10, max_obs=100, repeat=5)"
   ]
  },
  {
   "cell_type": "code",
   "execution_count": null,
   "metadata": {},
   "outputs": [],
   "source": []
  },
  {
   "cell_type": "code",
   "execution_count": 29,
   "metadata": {},
   "outputs": [
    {
     "name": "stdout",
     "output_type": "stream",
     "text": [
      "(array([1], dtype=int32), array([10]))\n"
     ]
    },
    {
     "data": {
      "image/png": "[encoded data removed]",
      "text/plain": [
       "<Figure size 432x288 with 1 Axes>"
      ]
     },
     "metadata": {
      "needs_background": "light"
     },
     "output_type": "display_data"
    }
   ],
   "source": [
    "for batch in dataset:\n",
    "    print(np.unique(batch['label'], return_counts=True))\n",
    "    lc = tf.boolean_mask(batch['values'][0], batch['mask'][0][...,0])\n",
    "    \n",
    "    plt.plot(lc[:, 0], lc[:, 1])\n",
    "    \n",
    "    plt.title('{}'.format(class_names[batch['label'][0]]))\n",
    "    break"
   ]
  },
  {
   "cell_type": "code",
   "execution_count": null,
   "metadata": {},
   "outputs": [],
   "source": []
  }
 ],
 "metadata": {
  "kernelspec": {
   "display_name": "Python 3",
   "language": "python",
   "name": "python3"
  },
  "language_info": {
   "codemirror_mode": {
    "name": "ipython",
    "version": 3
   },
   "file_extension": ".py",
   "mimetype": "text/x-python",
   "name": "python",
   "nbconvert_exporter": "python",
   "pygments_lexer": "ipython3",
   "version": "3.6.9"
  }
 },
 "nbformat": 4,
 "nbformat_minor": 2
}
