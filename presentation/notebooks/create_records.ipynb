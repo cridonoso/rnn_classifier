{
 "cells": [
  {
   "cell_type": "markdown",
   "metadata": {},
   "source": [
    "# Create Records  Tutorial"
   ]
  },
  {
   "cell_type": "code",
   "execution_count": 67,
   "metadata": {},
   "outputs": [
    {
     "name": "stdout",
     "output_type": "stream",
     "text": [
      "/home\n"
     ]
    }
   ],
   "source": [
    "cd /home/"
   ]
  },
  {
   "cell_type": "code",
   "execution_count": 68,
   "metadata": {},
   "outputs": [
    {
     "name": "stdout",
     "output_type": "stream",
     "text": [
      "The autoreload extension is already loaded. To reload it, use:\n",
      "  %reload_ext autoreload\n"
     ]
    }
   ],
   "source": [
    "import tensorflow as tf\n",
    "import numpy as np\n",
    "import pandas as pd\n",
    "import matplotlib.pyplot as plt\n",
    "from core.data import create_dataset\n",
    "\n",
    "%load_ext autoreload\n",
    "%autoreload 2"
   ]
  },
  {
   "cell_type": "code",
   "execution_count": 69,
   "metadata": {},
   "outputs": [
    {
     "data": {
      "text/html": [
       "<div>\n",
       "<style scoped>\n",
       "    .dataframe tbody tr th:only-of-type {\n",
       "        vertical-align: middle;\n",
       "    }\n",
       "\n",
       "    .dataframe tbody tr th {\n",
       "        vertical-align: top;\n",
       "    }\n",
       "\n",
       "    .dataframe thead th {\n",
       "        text-align: right;\n",
       "    }\n",
       "</style>\n",
       "<table border=\"1\" class=\"dataframe\">\n",
       "  <thead>\n",
       "    <tr style=\"text-align: right;\">\n",
       "      <th></th>\n",
       "      <th>oid</th>\n",
       "      <th>ra</th>\n",
       "      <th>dec</th>\n",
       "      <th>submitter</th>\n",
       "      <th>alerceclass</th>\n",
       "      <th>partition</th>\n",
       "    </tr>\n",
       "  </thead>\n",
       "  <tbody>\n",
       "    <tr>\n",
       "      <th>47376</th>\n",
       "      <td>ZTF18aaaaras</td>\n",
       "      <td>104.102036</td>\n",
       "      <td>42.292021</td>\n",
       "      <td>ireyes</td>\n",
       "      <td>EA</td>\n",
       "      <td>training_3</td>\n",
       "    </tr>\n",
       "  </tbody>\n",
       "</table>\n",
       "</div>"
      ],
      "text/plain": [
       "                oid          ra        dec submitter alerceclass   partition\n",
       "47376  ZTF18aaaaras  104.102036  42.292021    ireyes          EA  training_3"
      ]
     },
     "execution_count": 69,
     "metadata": {},
     "output_type": "execute_result"
    }
   ],
   "source": [
    "metadata = pd.read_csv('./data/raw_data/ztf_forced/metadata.csv')\n",
    "metadata = metadata.replace({'EB/EW':'EB&EW', 'CV/Nova':'CV&Nova'})\n",
    "metadata.sample(1)"
   ]
  },
  {
   "cell_type": "code",
   "execution_count": 70,
   "metadata": {},
   "outputs": [
    {
     "data": {
      "text/plain": [
       "array(['AGN', 'Blazar', 'CVNova', 'Ceph', 'DSCT', 'EA', 'EBEW', 'LPV',\n",
       "       'Periodic-Other', 'QSO', 'RRLab', 'RRLc', 'RSCVn', 'SNIa', 'YSO',\n",
       "       'nonSNIa'], dtype=object)"
      ]
     },
     "execution_count": 70,
     "metadata": {},
     "output_type": "execute_result"
    }
   ],
   "source": [
    "metadata['alerceclass'].unique()"
   ]
  },
  {
   "cell_type": "code",
   "execution_count": 71,
   "metadata": {},
   "outputs": [],
   "source": [
    "transient = ['SNIa', 'nonSNIa']#['SNIa', 'SNIbc', 'SNII', 'SNIIn', 'SNIIb', 'SLSN', 'TDE']\n",
    "stochastic = ['QSO', 'AGN', 'Blazar', 'CVNova', 'YSO'] \n",
    "periodic = ['LPV', 'RSCVn', 'Ceph', 'EA', 'EBEW', 'RRLc', 'RRLab', 'DSCT', 'Periodic-Other']"
   ]
  },
  {
   "cell_type": "code",
   "execution_count": 72,
   "metadata": {},
   "outputs": [],
   "source": [
    "change = {'SNIa':'Transient', 'nonSNIa':'Transient', 'QSO':'Stochastic', 'AGN':'Stochastic', \n",
    " 'Blazar':'Stochastic', 'CVNova':'Stochastic', 'YSO':'Stochastic', \n",
    " 'LPV':'Periodic', 'RSCVn':'Periodic', 'Ceph':'Periodic', 'EA':'Periodic', \n",
    " 'EBEW':'Periodic', 'RRLc':'Periodic', 'RRLab':'Periodic', 'DSCT':'Periodic', 'Periodic-Other':'Periodic'}"
   ]
  },
  {
   "cell_type": "code",
   "execution_count": 73,
   "metadata": {},
   "outputs": [],
   "source": [
    "metadata['alerceclass'] = metadata['alerceclass'].replace(change)"
   ]
  },
  {
   "cell_type": "code",
   "execution_count": 74,
   "metadata": {},
   "outputs": [
    {
     "data": {
      "text/plain": [
       "['Stochastic', 'Periodic', 'Transient']"
      ]
     },
     "execution_count": 74,
     "metadata": {},
     "output_type": "execute_result"
    }
   ],
   "source": [
    "class_names =list( metadata['alerceclass'].unique())\n",
    "class_names"
   ]
  },
  {
   "cell_type": "markdown",
   "metadata": {},
   "source": [
    "# Reading observations"
   ]
  },
  {
   "cell_type": "code",
   "execution_count": 12,
   "metadata": {},
   "outputs": [
    {
     "name": "stdout",
     "output_type": "stream",
     "text": [
      "CPU times: user 8.53 s, sys: 1.67 s, total: 10.2 s\n",
      "Wall time: 10.6 s\n"
     ]
    }
   ],
   "source": [
    "%%time\n",
    "observations = pd.read_csv('./data/raw_data/ztf_forced/detections.csv')"
   ]
  },
  {
   "cell_type": "code",
   "execution_count": 13,
   "metadata": {},
   "outputs": [
    {
     "data": {
      "text/html": [
       "<div>\n",
       "<style scoped>\n",
       "    .dataframe tbody tr th:only-of-type {\n",
       "        vertical-align: middle;\n",
       "    }\n",
       "\n",
       "    .dataframe tbody tr th {\n",
       "        vertical-align: top;\n",
       "    }\n",
       "\n",
       "    .dataframe thead th {\n",
       "        text-align: right;\n",
       "    }\n",
       "</style>\n",
       "<table border=\"1\" class=\"dataframe\">\n",
       "  <thead>\n",
       "    <tr style=\"text-align: right;\">\n",
       "      <th></th>\n",
       "      <th>oid</th>\n",
       "      <th>index</th>\n",
       "      <th>forcediffimflux</th>\n",
       "      <th>forcediffimfluxunc</th>\n",
       "      <th>forcediffimsnr</th>\n",
       "      <th>mjd</th>\n",
       "      <th>fid</th>\n",
       "      <th>flux_diff_ujy</th>\n",
       "      <th>sigma_flux_diff_ujy</th>\n",
       "    </tr>\n",
       "  </thead>\n",
       "  <tbody>\n",
       "    <tr>\n",
       "      <th>3996403</th>\n",
       "      <td>ZTF18aaqflxt</td>\n",
       "      <td>196</td>\n",
       "      <td>-336.162073</td>\n",
       "      <td>32.844742</td>\n",
       "      <td>-11.385121</td>\n",
       "      <td>58249.350093</td>\n",
       "      <td>1</td>\n",
       "      <td>-36.020415</td>\n",
       "      <td>3.519378</td>\n",
       "    </tr>\n",
       "    <tr>\n",
       "      <th>6863193</th>\n",
       "      <td>ZTF18ablhuip</td>\n",
       "      <td>383</td>\n",
       "      <td>-522.742562</td>\n",
       "      <td>36.024801</td>\n",
       "      <td>-16.141395</td>\n",
       "      <td>59380.192245</td>\n",
       "      <td>2</td>\n",
       "      <td>-73.061379</td>\n",
       "      <td>5.035024</td>\n",
       "    </tr>\n",
       "  </tbody>\n",
       "</table>\n",
       "</div>"
      ],
      "text/plain": [
       "                  oid  index  forcediffimflux  forcediffimfluxunc  \\\n",
       "3996403  ZTF18aaqflxt    196      -336.162073           32.844742   \n",
       "6863193  ZTF18ablhuip    383      -522.742562           36.024801   \n",
       "\n",
       "         forcediffimsnr           mjd  fid  flux_diff_ujy  sigma_flux_diff_ujy  \n",
       "3996403      -11.385121  58249.350093    1     -36.020415             3.519378  \n",
       "6863193      -16.141395  59380.192245    2     -73.061379             5.035024  "
      ]
     },
     "execution_count": 13,
     "metadata": {},
     "output_type": "execute_result"
    }
   ],
   "source": [
    "observations.sample(2)"
   ]
  },
  {
   "cell_type": "markdown",
   "metadata": {},
   "source": [
    "# Writting records"
   ]
  },
  {
   "cell_type": "code",
   "execution_count": 77,
   "metadata": {},
   "outputs": [],
   "source": [
    "test_df = metadata[metadata['partition'] == 'test']"
   ]
  },
  {
   "cell_type": "code",
   "execution_count": 100,
   "metadata": {},
   "outputs": [
    {
     "name": "stdout",
     "output_type": "stream",
     "text": [
      "[INFO] Preprocessing lighcurves...\n"
     ]
    },
    {
     "name": "stderr",
     "output_type": "stream",
     "text": [
      "100%|███████████████████████████████████| 14481/14481 [00:08<00:00, 1748.46it/s]\n"
     ]
    },
    {
     "name": "stdout",
     "output_type": "stream",
     "text": [
      "[INFO] Preprocessing lighcurves...\n"
     ]
    },
    {
     "name": "stderr",
     "output_type": "stream",
     "text": [
      "100%|█████████████████████████████████████| 1609/1609 [00:00<00:00, 1839.63it/s]\n"
     ]
    },
    {
     "name": "stdout",
     "output_type": "stream",
     "text": [
      "[INFO] Preprocessing lighcurves...\n"
     ]
    },
    {
     "name": "stderr",
     "output_type": "stream",
     "text": [
      "100%|█████████████████████████████████████| 1600/1600 [00:00<00:00, 1846.21it/s]"
     ]
    },
    {
     "name": "stdout",
     "output_type": "stream",
     "text": [
      "CPU times: user 21.5 s, sys: 2.22 s, total: 23.7 s\n",
      "Wall time: 29 s\n"
     ]
    },
    {
     "name": "stderr",
     "output_type": "stream",
     "text": [
      "\n"
     ]
    }
   ],
   "source": [
    "%%time\n",
    "for fold_n in range(1):\n",
    "    test_df.to_csv('data/records/forced/fold_{}/test_samples.csv'.format(fold_n), index=False)\n",
    "    \n",
    "    create_dataset(metadata[metadata['partition'] == 'training_{}'.format(fold_n)], \n",
    "                   observations,\n",
    "                   target='data/records/forced/fold_{}/train'.format(fold_n),\n",
    "                   n_jobs = 8,\n",
    "                   unique_labels=class_names)\n",
    "    \n",
    "    create_dataset(metadata[metadata['partition'] == 'validation_{}'.format(fold_n)], \n",
    "                   observations,\n",
    "                   target='data/records/forced/fold_{}/val'.format(fold_n),\n",
    "                   n_jobs = 8,\n",
    "                   unique_labels=class_names)\n",
    "    \n",
    "    create_dataset(test_df, \n",
    "                   observations,\n",
    "                   target='data/records/forced/fold_{}/test'.format(fold_n),\n",
    "                   n_jobs = 8,\n",
    "                   unique_labels=class_names)"
   ]
  },
  {
   "cell_type": "markdown",
   "metadata": {},
   "source": [
    "# Reading records"
   ]
  },
  {
   "cell_type": "code",
   "execution_count": 115,
   "metadata": {},
   "outputs": [],
   "source": [
    "from core.data import load_records\n",
    "import numpy as np\n",
    "import matplotlib.pyplot as plt"
   ]
  },
  {
   "cell_type": "code",
   "execution_count": 116,
   "metadata": {},
   "outputs": [],
   "source": [
    "test_df = pd.read_csv('./data/records/forced/fold_0/test_samples.csv')\n",
    "num_classes = len(metadata['alerceclass'].unique())"
   ]
  },
  {
   "cell_type": "code",
   "execution_count": 117,
   "metadata": {},
   "outputs": [],
   "source": [
    "dataset = load_records('./data/records/forced/fold_0/test/', batch_size=256, \n",
    "                       max_obs=200, num_classes=num_classes, \n",
    "                       sampling=False, shuffle=True)"
   ]
  },
  {
   "cell_type": "code",
   "execution_count": 123,
   "metadata": {},
   "outputs": [
    {
     "name": "stderr",
     "output_type": "stream",
     "text": [
      "2021-11-17 19:14:20.967828: W tensorflow/core/kernels/data/cache_dataset_ops.cc:768] The calling iterator did not fully read the dataset being cached. In order to avoid unexpected truncation of the dataset, the partially cached contents of the dataset  will be discarded. This can happen if you have an input pipeline similar to `dataset.cache().take(k).repeat()`. You should use `dataset.take(k).cache().repeat()` instead.\n"
     ]
    },
    {
     "data": {
      "image/png": "[encoded data removed]",
      "text/plain": [
       "<Figure size 432x288 with 1 Axes>"
      ]
     },
     "metadata": {
      "needs_background": "light"
     },
     "output_type": "display_data"
    }
   ],
   "source": [
    "for x, y in dataset:\n",
    "    sample = x['input'][0]\n",
    "    plt.errorbar(sample[:, 0], sample[:, 1], yerr=sample[:, 2])\n",
    "    plt.title('{}'.format(class_names[np.argmax(y[0], 0)]))\n",
    "    break"
   ]
  },
  {
   "cell_type": "code",
   "execution_count": null,
   "metadata": {},
   "outputs": [],
   "source": []
  },
  {
   "cell_type": "code",
   "execution_count": null,
   "metadata": {},
   "outputs": [],
   "source": []
  },
  {
   "cell_type": "code",
   "execution_count": null,
   "metadata": {},
   "outputs": [],
   "source": []
  },
  {
   "cell_type": "code",
   "execution_count": null,
   "metadata": {},
   "outputs": [],
   "source": []
  }
 ],
 "metadata": {
  "kernelspec": {
   "display_name": "Python 3 (ipykernel)",
   "language": "python",
   "name": "python3"
  },
  "language_info": {
   "codemirror_mode": {
    "name": "ipython",
    "version": 3
   },
   "file_extension": ".py",
   "mimetype": "text/x-python",
   "name": "python",
   "nbconvert_exporter": "python",
   "pygments_lexer": "ipython3",
   "version": "3.8.10"
  }
 },
 "nbformat": 4,
 "nbformat_minor": 2
}
