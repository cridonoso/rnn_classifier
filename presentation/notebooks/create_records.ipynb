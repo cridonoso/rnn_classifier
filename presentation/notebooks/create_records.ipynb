{
 "cells": [
  {
   "cell_type": "code",
   "execution_count": 1,
   "metadata": {},
   "outputs": [
    {
     "name": "stdout",
     "output_type": "stream",
     "text": [
      "/tf/classifier\n"
     ]
    }
   ],
   "source": [
    "cd /tf/classifier"
   ]
  },
  {
   "cell_type": "code",
   "execution_count": 3,
   "metadata": {},
   "outputs": [
    {
     "name": "stdout",
     "output_type": "stream",
     "text": [
      "The autoreload extension is already loaded. To reload it, use:\n",
      "  %reload_ext autoreload\n"
     ]
    }
   ],
   "source": [
    "import tensorflow as tf\n",
    "import numpy as np\n",
    "import pandas as pd\n",
    "import matplotlib.pyplot as plt\n",
    "from core.data import create_dataset, load_records\n",
    "\n",
    "%load_ext autoreload\n",
    "%autoreload 2"
   ]
  },
  {
   "cell_type": "code",
   "execution_count": 4,
   "metadata": {},
   "outputs": [
    {
     "data": {
      "text/html": [
       "<div>\n",
       "<style scoped>\n",
       "    .dataframe tbody tr th:only-of-type {\n",
       "        vertical-align: middle;\n",
       "    }\n",
       "\n",
       "    .dataframe tbody tr th {\n",
       "        vertical-align: top;\n",
       "    }\n",
       "\n",
       "    .dataframe thead th {\n",
       "        text-align: right;\n",
       "    }\n",
       "</style>\n",
       "<table border=\"1\" class=\"dataframe\">\n",
       "  <thead>\n",
       "    <tr style=\"text-align: right;\">\n",
       "      <th></th>\n",
       "      <th>oid</th>\n",
       "      <th>classALeRCE</th>\n",
       "      <th>ra</th>\n",
       "      <th>dec</th>\n",
       "      <th>period</th>\n",
       "      <th>source</th>\n",
       "      <th>id_source</th>\n",
       "      <th>class_source</th>\n",
       "      <th>separation_arcsec</th>\n",
       "    </tr>\n",
       "  </thead>\n",
       "  <tbody>\n",
       "    <tr>\n",
       "      <th>86781</th>\n",
       "      <td>ZTF19acyrgvr</td>\n",
       "      <td>YSO</td>\n",
       "      <td>83.422014</td>\n",
       "      <td>-4.823771</td>\n",
       "      <td>NaN</td>\n",
       "      <td>Simbad_variables</td>\n",
       "      <td>V* HV Ori</td>\n",
       "      <td>Orion_V*</td>\n",
       "      <td>0.175407</td>\n",
       "    </tr>\n",
       "  </tbody>\n",
       "</table>\n",
       "</div>"
      ],
      "text/plain": [
       "                oid classALeRCE         ra       dec period            source  \\\n",
       "86781  ZTF19acyrgvr         YSO  83.422014 -4.823771    NaN  Simbad_variables   \n",
       "\n",
       "       id_source class_source  separation_arcsec  \n",
       "86781  V* HV Ori     Orion_V*           0.175407  "
      ]
     },
     "execution_count": 4,
     "metadata": {},
     "output_type": "execute_result"
    }
   ],
   "source": [
    "metadata = pd.read_csv('./data/raw_data/ztf/dfcrossmatches_ZTF_prioritized_v8.0.1.csv')\n",
    "metadata = metadata.replace({'EB/EW':'EB&EW', 'CV/Nova':'CV&Nova'})\n",
    "metadata.sample(1)"
   ]
  },
  {
   "cell_type": "code",
   "execution_count": 5,
   "metadata": {},
   "outputs": [
    {
     "data": {
      "text/plain": [
       "array(['CV&Nova', 'Blazar', 'AGN', 'QSO', 'NLQSO', 'NLAGN', 'YSO',\n",
       "       'RSCVn', 'RRL', 'EB&EW', 'Periodic-Other', 'LPV', 'SNIa', 'SNIbc',\n",
       "       'SNII', 'SNIIn', 'SNIIb', 'SLSN', 'EA', 'DSCT', 'Ceph', 'ZZ'],\n",
       "      dtype=object)"
      ]
     },
     "execution_count": 5,
     "metadata": {},
     "output_type": "execute_result"
    }
   ],
   "source": [
    "metadata['classALeRCE'].unique()"
   ]
  },
  {
   "cell_type": "code",
   "execution_count": 5,
   "metadata": {},
   "outputs": [],
   "source": [
    "stochastic = ['QSO','AGN', 'Blazar','CV&Nova','YSO']\n",
    "periodic = ['LPV', 'EA', 'DSCT','RRL', 'Ceph', 'Periodic-Other']\n",
    "transient = ['SNIa', 'SNIbc','SNII','SLSN']"
   ]
  },
  {
   "cell_type": "code",
   "execution_count": 6,
   "metadata": {},
   "outputs": [
    {
     "ename": "NameError",
     "evalue": "name 'stochastic' is not defined",
     "output_type": "error",
     "traceback": [
      "\u001b[0;31m---------------------------------------------------------------------------\u001b[0m",
      "\u001b[0;31mNameError\u001b[0m                                 Traceback (most recent call last)",
      "\u001b[0;32m<ipython-input-6-765477ab12d5>\u001b[0m in \u001b[0;36m<module>\u001b[0;34m\u001b[0m\n\u001b[0;32m----> 1\u001b[0;31m \u001b[0mmetadata\u001b[0m \u001b[0;34m=\u001b[0m \u001b[0mmetadata\u001b[0m\u001b[0;34m[\u001b[0m\u001b[0mmetadata\u001b[0m\u001b[0;34m.\u001b[0m\u001b[0mclassALeRCE\u001b[0m\u001b[0;34m.\u001b[0m\u001b[0misin\u001b[0m\u001b[0;34m(\u001b[0m\u001b[0mstochastic\u001b[0m\u001b[0;34m+\u001b[0m\u001b[0mperiodic\u001b[0m\u001b[0;34m+\u001b[0m\u001b[0mtransient\u001b[0m\u001b[0;34m)\u001b[0m\u001b[0;34m]\u001b[0m\u001b[0;34m\u001b[0m\u001b[0;34m\u001b[0m\u001b[0m\n\u001b[0m",
      "\u001b[0;31mNameError\u001b[0m: name 'stochastic' is not defined"
     ]
    }
   ],
   "source": [
    "metadata = metadata[metadata.classALeRCE.isin(stochastic+periodic+transient)]"
   ]
  },
  {
   "cell_type": "code",
   "execution_count": 9,
   "metadata": {},
   "outputs": [],
   "source": [
    "class_names =list( metadata['classALeRCE'].unique())"
   ]
  },
  {
   "cell_type": "code",
   "execution_count": 23,
   "metadata": {},
   "outputs": [
    {
     "name": "stderr",
     "output_type": "stream",
     "text": [
      "100%|██████████| 15/15 [00:00<00:00, 92.42it/s]\n"
     ]
    }
   ],
   "source": [
    "create_dataset(metadata,\n",
    "               source='./data/raw_data/ztf/detections_v8.csv',\n",
    "               target='data/records/ztf',\n",
    "               max_lcs_per_record=20000,\n",
    "               debug=True)"
   ]
  },
  {
   "cell_type": "markdown",
   "metadata": {},
   "source": [
    "# Reading records"
   ]
  },
  {
   "cell_type": "code",
   "execution_count": 33,
   "metadata": {},
   "outputs": [],
   "source": [
    "metadata = pd.read_csv('./data/raw_data/ztf/dfcrossmatches_ZTF_prioritized_v8.0.1.csv')\n",
    "metadata = metadata.replace({'EB/EW':'EB&EW', 'CV/Nova':'CV&Nova'})\n",
    "class_names =list( metadata['classALeRCE'].unique())"
   ]
  },
  {
   "cell_type": "code",
   "execution_count": 30,
   "metadata": {},
   "outputs": [],
   "source": [
    "dataset = load_records('./data/records/ztf/test', batch_size=256, max_obs=5000, repeat=100)"
   ]
  },
  {
   "cell_type": "code",
   "execution_count": 34,
   "metadata": {},
   "outputs": [
    {
     "data": {
      "image/png": "[encoded data removed]",
      "text/plain": [
       "<Figure size 432x288 with 1 Axes>"
      ]
     },
     "metadata": {
      "needs_background": "light"
     },
     "output_type": "display_data"
    }
   ],
   "source": [
    "plt.figure()\n",
    "for x in dataset:\n",
    "    b = x['label'].numpy()\n",
    "    lab, uniq = np.unique(b, return_counts=True)\n",
    "    plt.bar(range(len(lab)), uniq)\n",
    "    plt.xticks(range(len(lab)), lab, rotation=90)\n",
    "    break\n",
    "\n",
    "plt.show()"
   ]
  },
  {
   "cell_type": "code",
   "execution_count": null,
   "metadata": {},
   "outputs": [],
   "source": []
  },
  {
   "cell_type": "code",
   "execution_count": 35,
   "metadata": {},
   "outputs": [
    {
     "name": "stdout",
     "output_type": "stream",
     "text": [
      "tf.Tensor(b'ZTF17aaaskke', shape=(), dtype=string)\n",
      "(array([ 0,  1,  2,  3,  4,  5,  6,  7,  8,  9, 10, 11, 12, 13, 14, 15, 16,\n",
      "       17, 18, 19, 20, 21], dtype=int32), array([16, 11, 10, 15, 12, 12, 10, 14,  9,  5, 13, 12,  8, 12,  9, 16,  9,\n",
      "        5, 15, 16, 15, 12]))\n"
     ]
    },
    {
     "data": {
      "image/png": "[encoded data removed]",
      "text/plain": [
       "<Figure size 432x288 with 1 Axes>"
      ]
     },
     "metadata": {
      "needs_background": "light"
     },
     "output_type": "display_data"
    }
   ],
   "source": [
    "for batch in dataset:\n",
    "    print(batch['lcid'][0])\n",
    "    print(np.unique(batch['label'], return_counts=True))\n",
    "    lc = tf.boolean_mask(batch['values'][0], batch['mask'][0][...,0])\n",
    "\n",
    "    plt.plot(lc[:, 0], lc[:, 1])\n",
    "    \n",
    "    plt.title('{}'.format(class_names[batch['label'][0]]))\n",
    "    break"
   ]
  },
  {
   "cell_type": "code",
   "execution_count": null,
   "metadata": {},
   "outputs": [],
   "source": []
  },
  {
   "cell_type": "code",
   "execution_count": null,
   "metadata": {},
   "outputs": [],
   "source": []
  }
 ],
 "metadata": {
  "kernelspec": {
   "display_name": "Python 3",
   "language": "python",
   "name": "python3"
  },
  "language_info": {
   "codemirror_mode": {
    "name": "ipython",
    "version": 3
   },
   "file_extension": ".py",
   "mimetype": "text/x-python",
   "name": "python",
   "nbconvert_exporter": "python",
   "pygments_lexer": "ipython3",
   "version": "3.6.9"
  }
 },
 "nbformat": 4,
 "nbformat_minor": 2
}
